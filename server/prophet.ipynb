{
 "cells": [
  {
   "cell_type": "markdown",
   "metadata": {},
   "source": [
    "# Prediction Model "
   ]
  },
  {
   "cell_type": "markdown",
   "metadata": {},
   "source": [
    "Kelun Chai"
   ]
  },
  {
   "cell_type": "markdown",
   "metadata": {},
   "source": [
    "1. Prophet\n",
    "2. Arima\n",
    "3. LSTM"
   ]
  },
  {
   "cell_type": "markdown",
   "metadata": {},
   "source": [
    "## Data Preperation"
   ]
  },
  {
   "cell_type": "code",
   "execution_count": 101,
   "metadata": {},
   "outputs": [],
   "source": [
    "# import plotly.offline as py\n",
    "# import plotly.express as px\n",
    "from fbprophet import Prophet\n",
    "# from fbprophet.plot import plot_plotly, add_changepoints_to_plot\n",
    "import pandas as pd\n",
    "import numpy as np\n",
    "# import matplotlib.pyplot as plt"
   ]
  },
  {
   "cell_type": "code",
   "execution_count": 102,
   "metadata": {},
   "outputs": [],
   "source": [
    "pred = pd.read_csv(\"covid-19-all.csv\")\n",
    "pred = pred.fillna(0)\n",
    "# pred.head()"
   ]
  },
  {
   "cell_type": "code",
   "execution_count": 103,
   "metadata": {},
   "outputs": [],
   "source": [
    "predgrp = pred[pred['Country/Region']=='France'].groupby('Date')['Confirmed','Recovered','Deaths'].sum().reset_index()\n",
    "# predgrp.head(7)"
   ]
  },
  {
   "cell_type": "code",
   "execution_count": 104,
   "metadata": {},
   "outputs": [],
   "source": [
    "pred_cnfrm = predgrp.loc[:,[\"Date\",\"Confirmed\"]]\n",
    "# pred_cnfrm.head()"
   ]
  },
  {
   "cell_type": "code",
   "execution_count": 105,
   "metadata": {},
   "outputs": [
    {
     "data": {
      "text/html": [
       "<div>\n",
       "<style scoped>\n",
       "    .dataframe tbody tr th:only-of-type {\n",
       "        vertical-align: middle;\n",
       "    }\n",
       "\n",
       "    .dataframe tbody tr th {\n",
       "        vertical-align: top;\n",
       "    }\n",
       "\n",
       "    .dataframe thead th {\n",
       "        text-align: right;\n",
       "    }\n",
       "</style>\n",
       "<table border=\"1\" class=\"dataframe\">\n",
       "  <thead>\n",
       "    <tr style=\"text-align: right;\">\n",
       "      <th></th>\n",
       "      <th>ds</th>\n",
       "      <th>y</th>\n",
       "    </tr>\n",
       "  </thead>\n",
       "  <tbody>\n",
       "    <tr>\n",
       "      <th>118</th>\n",
       "      <td>2020-05-21</td>\n",
       "      <td>181951.0</td>\n",
       "    </tr>\n",
       "    <tr>\n",
       "      <th>119</th>\n",
       "      <td>2020-05-22</td>\n",
       "      <td>182015.0</td>\n",
       "    </tr>\n",
       "    <tr>\n",
       "      <th>120</th>\n",
       "      <td>2020-05-23</td>\n",
       "      <td>182036.0</td>\n",
       "    </tr>\n",
       "    <tr>\n",
       "      <th>121</th>\n",
       "      <td>2020-05-24</td>\n",
       "      <td>182709.0</td>\n",
       "    </tr>\n",
       "    <tr>\n",
       "      <th>122</th>\n",
       "      <td>2020-05-25</td>\n",
       "      <td>183067.0</td>\n",
       "    </tr>\n",
       "  </tbody>\n",
       "</table>\n",
       "</div>"
      ],
      "text/plain": [
       "             ds         y\n",
       "118  2020-05-21  181951.0\n",
       "119  2020-05-22  182015.0\n",
       "120  2020-05-23  182036.0\n",
       "121  2020-05-24  182709.0\n",
       "122  2020-05-25  183067.0"
      ]
     },
     "execution_count": 105,
     "metadata": {},
     "output_type": "execute_result"
    }
   ],
   "source": [
    "pr_data = pred_cnfrm\n",
    "pr_data.columns = ['ds','y']\n",
    "pr_data.tail()"
   ]
  },
  {
   "cell_type": "markdown",
   "metadata": {},
   "source": [
    "## Prophet"
   ]
  },
  {
   "cell_type": "code",
   "execution_count": 106,
   "metadata": {},
   "outputs": [
    {
     "name": "stderr",
     "output_type": "stream",
     "text": [
      "INFO:fbprophet:Disabling yearly seasonality. Run prophet with yearly_seasonality=True to override this.\n",
      "INFO:fbprophet:Disabling daily seasonality. Run prophet with daily_seasonality=True to override this.\n"
     ]
    }
   ],
   "source": [
    "m=Prophet()\n",
    "m.fit(pr_data)\n",
    "future=m.make_future_dataframe(periods=15)\n",
    "forecast=m.predict(future)\n",
    "# forecast"
   ]
  },
  {
   "cell_type": "markdown",
   "metadata": {},
   "source": [
    "### Prediction for next 15 days"
   ]
  },
  {
   "cell_type": "code",
   "execution_count": 107,
   "metadata": {},
   "outputs": [
    {
     "data": {
      "text/html": [
       "<div>\n",
       "<style scoped>\n",
       "    .dataframe tbody tr th:only-of-type {\n",
       "        vertical-align: middle;\n",
       "    }\n",
       "\n",
       "    .dataframe tbody tr th {\n",
       "        vertical-align: top;\n",
       "    }\n",
       "\n",
       "    .dataframe thead th {\n",
       "        text-align: right;\n",
       "    }\n",
       "</style>\n",
       "<table border=\"1\" class=\"dataframe\">\n",
       "  <thead>\n",
       "    <tr style=\"text-align: right;\">\n",
       "      <th></th>\n",
       "      <th>Date</th>\n",
       "      <th>Confirm</th>\n",
       "    </tr>\n",
       "  </thead>\n",
       "  <tbody>\n",
       "    <tr>\n",
       "      <th>133</th>\n",
       "      <td>2020-06-05</td>\n",
       "      <td>192987.284565</td>\n",
       "    </tr>\n",
       "    <tr>\n",
       "      <th>134</th>\n",
       "      <td>2020-06-06</td>\n",
       "      <td>193671.813985</td>\n",
       "    </tr>\n",
       "    <tr>\n",
       "      <th>135</th>\n",
       "      <td>2020-06-07</td>\n",
       "      <td>194356.343404</td>\n",
       "    </tr>\n",
       "    <tr>\n",
       "      <th>136</th>\n",
       "      <td>2020-06-08</td>\n",
       "      <td>195040.872824</td>\n",
       "    </tr>\n",
       "    <tr>\n",
       "      <th>137</th>\n",
       "      <td>2020-06-09</td>\n",
       "      <td>195725.402244</td>\n",
       "    </tr>\n",
       "  </tbody>\n",
       "</table>\n",
       "</div>"
      ],
      "text/plain": [
       "          Date        Confirm\n",
       "133 2020-06-05  192987.284565\n",
       "134 2020-06-06  193671.813985\n",
       "135 2020-06-07  194356.343404\n",
       "136 2020-06-08  195040.872824\n",
       "137 2020-06-09  195725.402244"
      ]
     },
     "execution_count": 107,
     "metadata": {},
     "output_type": "execute_result"
    }
   ],
   "source": [
    "cnfrm = forecast.loc[:,['ds','trend']]\n",
    "cnfrm = cnfrm[cnfrm['trend']>0]\n",
    "cnfrm.columns = ['Date','Confirm']\n",
    "# cnfrm[[\"Confirm\"]] = cnfrm[[\"Confirm\"]].astype(int)\n",
    "cnfrm.tail()"
   ]
  },
  {
   "cell_type": "markdown",
   "metadata": {},
   "source": [
    "## Arima"
   ]
  },
  {
   "cell_type": "code",
   "execution_count": 75,
   "metadata": {},
   "outputs": [],
   "source": [
    "from statsmodels.tsa.arima_model import ARIMA"
   ]
  },
  {
   "cell_type": "code",
   "execution_count": 109,
   "metadata": {},
   "outputs": [],
   "source": [
    "pred_cnfrm = predgrp.loc[:,[\"Date\",\"Confirmed\"]]"
   ]
  },
  {
   "cell_type": "code",
   "execution_count": 79,
   "metadata": {},
   "outputs": [],
   "source": [
    "confirm_cs = pred_cnfrm.cumsum()\n",
    "confirm_cs['date1'] = pred_cnfrm['Date']\n",
    "confirm_cs = confirm_cs.drop('Date',axis=1)\n",
    "arima_data = confirm_cs\n",
    "arima_data.columns = ['count','confirmed_date']"
   ]
  },
  {
   "cell_type": "code",
   "execution_count": 80,
   "metadata": {},
   "outputs": [],
   "source": [
    "model = ARIMA(arima_data['count'].values, order=(1, 2, 1))\n",
    "fit_model = model.fit(trend='c', full_output=True, disp=True)\n",
    "#fit_model.summary()"
   ]
  },
  {
   "cell_type": "code",
   "execution_count": 87,
   "metadata": {},
   "outputs": [
    {
     "name": "stdout",
     "output_type": "stream",
     "text": [
      "         Date  Confirmed\n",
      "1  2020-05-26     184230\n",
      "2  2020-05-27     184855\n",
      "3  2020-05-28     185508\n",
      "4  2020-05-29     186187\n",
      "5  2020-05-30     186891\n",
      "         Date  Confirmed\n",
      "0  2020-01-24          2\n",
      "1  2020-01-25          3\n",
      "2  2020-01-26          3\n",
      "3  2020-01-27          3\n",
      "4  2020-01-28          4\n"
     ]
    }
   ],
   "source": [
    "forcast = fit_model.forecast(steps=30)\n",
    "pred_y = forcast[0].tolist()\n",
    "pred = pd.DataFrame(pred_y)\n",
    "pred['pred']=  pred - pred.shift(1)\n",
    "predict = pd.DataFrame({'Date':pd.date_range(\"20200526\",periods=29).astype(str),'Confirmed':pred.drop(0)['pred'].astype(int)})\n",
    "print(predict.head())\n",
    "pred_cnfrm[\"Confirmed\"] = pred_cnfrm[\"Confirmed\"].astype(int)\n",
    "print(pred_cnfrm.head())"
   ]
  },
  {
   "cell_type": "code",
   "execution_count": 96,
   "metadata": {},
   "outputs": [],
   "source": [
    "res = pd.concat([pred_cnfrm, predict])\n",
    "res.reset_index(drop=True,inplace=True)\n",
    "res = res.to_json(orient='records')"
   ]
  },
  {
   "cell_type": "code",
   "execution_count": 110,
   "metadata": {},
   "outputs": [],
   "source": [
    "dataset_c = pd.DataFrame(pred_cnfrm['Confirmed'])"
   ]
  },
  {
   "cell_type": "code",
   "execution_count": 111,
   "metadata": {},
   "outputs": [
    {
     "data": {
      "text/html": [
       "<div>\n",
       "<style scoped>\n",
       "    .dataframe tbody tr th:only-of-type {\n",
       "        vertical-align: middle;\n",
       "    }\n",
       "\n",
       "    .dataframe tbody tr th {\n",
       "        vertical-align: top;\n",
       "    }\n",
       "\n",
       "    .dataframe thead th {\n",
       "        text-align: right;\n",
       "    }\n",
       "</style>\n",
       "<table border=\"1\" class=\"dataframe\">\n",
       "  <thead>\n",
       "    <tr style=\"text-align: right;\">\n",
       "      <th></th>\n",
       "      <th>Confirmed</th>\n",
       "    </tr>\n",
       "  </thead>\n",
       "  <tbody>\n",
       "    <tr>\n",
       "      <th>115</th>\n",
       "      <td>180051.0</td>\n",
       "    </tr>\n",
       "    <tr>\n",
       "      <th>116</th>\n",
       "      <td>180933.0</td>\n",
       "    </tr>\n",
       "    <tr>\n",
       "      <th>117</th>\n",
       "      <td>181700.0</td>\n",
       "    </tr>\n",
       "    <tr>\n",
       "      <th>118</th>\n",
       "      <td>181951.0</td>\n",
       "    </tr>\n",
       "    <tr>\n",
       "      <th>119</th>\n",
       "      <td>182015.0</td>\n",
       "    </tr>\n",
       "    <tr>\n",
       "      <th>120</th>\n",
       "      <td>182036.0</td>\n",
       "    </tr>\n",
       "    <tr>\n",
       "      <th>121</th>\n",
       "      <td>182709.0</td>\n",
       "    </tr>\n",
       "    <tr>\n",
       "      <th>122</th>\n",
       "      <td>183067.0</td>\n",
       "    </tr>\n",
       "  </tbody>\n",
       "</table>\n",
       "</div>"
      ],
      "text/plain": [
       "     Confirmed\n",
       "115   180051.0\n",
       "116   180933.0\n",
       "117   181700.0\n",
       "118   181951.0\n",
       "119   182015.0\n",
       "120   182036.0\n",
       "121   182709.0\n",
       "122   183067.0"
      ]
     },
     "execution_count": 111,
     "metadata": {},
     "output_type": "execute_result"
    }
   ],
   "source": [
    "data = np.array(dataset_c).reshape(-1, 1)\n",
    "train_data = dataset_c[:len(dataset_c)-8]\n",
    "test_data = dataset_c[len(dataset_c)-8:]\n",
    "test_data"
   ]
  },
  {
   "cell_type": "markdown",
   "metadata": {},
   "source": [
    "## LSTM"
   ]
  },
  {
   "cell_type": "code",
   "execution_count": 97,
   "metadata": {},
   "outputs": [],
   "source": [
    "from sklearn.preprocessing import MinMaxScaler\n",
    "from tensorflow.keras.preprocessing.sequence import TimeseriesGenerator\n",
    "from tensorflow.keras import Sequential\n",
    "from tensorflow.keras.layers import LSTM, Dropout, Dense"
   ]
  },
  {
   "cell_type": "code",
   "execution_count": 98,
   "metadata": {},
   "outputs": [
    {
     "name": "stdout",
     "output_type": "stream",
     "text": [
      "Epoch 1/8\n",
      "110/110 [==============================] - 1s 8ms/step - loss: 0.0650\n",
      "Epoch 2/8\n",
      "110/110 [==============================] - 1s 6ms/step - loss: 0.0088\n",
      "Epoch 3/8\n",
      "110/110 [==============================] - 1s 6ms/step - loss: 0.0067\n",
      "Epoch 4/8\n",
      "110/110 [==============================] - 1s 7ms/step - loss: 0.0080\n",
      "Epoch 5/8\n",
      "110/110 [==============================] - 1s 6ms/step - loss: 0.0052\n",
      "Epoch 6/8\n",
      "110/110 [==============================] - 1s 6ms/step - loss: 0.0046\n",
      "Epoch 7/8\n",
      "110/110 [==============================] - 1s 6ms/step - loss: 0.0045\n",
      "Epoch 8/8\n",
      "110/110 [==============================] - 1s 6ms/step - loss: 0.0041\n"
     ]
    },
    {
     "data": {
      "text/plain": [
       "<tensorflow.python.keras.callbacks.History at 0x7f05703fcad0>"
      ]
     },
     "execution_count": 98,
     "metadata": {},
     "output_type": "execute_result"
    }
   ],
   "source": [
    "scaler = MinMaxScaler()\n",
    "scaler.fit(train_data)\n",
    "scaled_train_data = scaler.transform(train_data)\n",
    "scaled_test_data = scaler.transform(test_data)\n",
    "n_input =5\n",
    "n_features =1\n",
    "                             \n",
    "generator = TimeseriesGenerator(scaled_train_data,scaled_train_data, length=n_input, batch_size=1)\n",
    "\n",
    "lstm_model = Sequential()\n",
    "lstm_model.add(LSTM(units = 50, return_sequences = True, input_shape = (n_input, n_features)))\n",
    "lstm_model.add(Dropout(0.2))\n",
    "lstm_model.add(LSTM(units = 50, return_sequences = True))\n",
    "lstm_model.add(Dropout(0.2))\n",
    "lstm_model.add(LSTM(units = 50))\n",
    "lstm_model.add(Dropout(0.2))\n",
    "lstm_model.add(Dense(units = 1))\n",
    "lstm_model.compile(optimizer = 'adam', loss = 'mean_squared_error')\n",
    "lstm_model.fit(generator, epochs = 8)"
   ]
  },
  {
   "cell_type": "code",
   "execution_count": 18,
   "metadata": {},
   "outputs": [
    {
     "data": {
      "image/png": "[encoded data removed]",
      "text/plain": [
       "<Figure size 2160x288 with 1 Axes>"
      ]
     },
     "metadata": {
      "needs_background": "light"
     },
     "output_type": "display_data"
    }
   ],
   "source": [
    "import matplotlib.pyplot as plt\n",
    "losses_lstm = lstm_model.history.history['loss']\n",
    "plt.figure(figsize = (30,4))\n",
    "plt.xlabel('Epochs')\n",
    "plt.ylabel('Loss')\n",
    "plt.xticks(np.arange(0,100,1))\n",
    "plt.plot(range(len(losses_lstm)), losses_lstm)\n",
    "plt.show()"
   ]
  },
  {
   "cell_type": "code",
   "execution_count": 99,
   "metadata": {},
   "outputs": [
    {
     "data": {
      "text/html": [
       "<div>\n",
       "<style scoped>\n",
       "    .dataframe tbody tr th:only-of-type {\n",
       "        vertical-align: middle;\n",
       "    }\n",
       "\n",
       "    .dataframe tbody tr th {\n",
       "        vertical-align: top;\n",
       "    }\n",
       "\n",
       "    .dataframe thead th {\n",
       "        text-align: right;\n",
       "    }\n",
       "</style>\n",
       "<table border=\"1\" class=\"dataframe\">\n",
       "  <thead>\n",
       "    <tr style=\"text-align: right;\">\n",
       "      <th></th>\n",
       "      <th>0</th>\n",
       "    </tr>\n",
       "  </thead>\n",
       "  <tbody>\n",
       "    <tr>\n",
       "      <th>0</th>\n",
       "      <td>174661.781039</td>\n",
       "    </tr>\n",
       "    <tr>\n",
       "      <th>1</th>\n",
       "      <td>174854.172282</td>\n",
       "    </tr>\n",
       "    <tr>\n",
       "      <th>2</th>\n",
       "      <td>174817.617624</td>\n",
       "    </tr>\n",
       "    <tr>\n",
       "      <th>3</th>\n",
       "      <td>174466.101698</td>\n",
       "    </tr>\n",
       "    <tr>\n",
       "      <th>4</th>\n",
       "      <td>173838.460480</td>\n",
       "    </tr>\n",
       "    <tr>\n",
       "      <th>5</th>\n",
       "      <td>172826.336668</td>\n",
       "    </tr>\n",
       "    <tr>\n",
       "      <th>6</th>\n",
       "      <td>172801.574181</td>\n",
       "    </tr>\n",
       "    <tr>\n",
       "      <th>7</th>\n",
       "      <td>172664.491538</td>\n",
       "    </tr>\n",
       "  </tbody>\n",
       "</table>\n",
       "</div>"
      ],
      "text/plain": [
       "               0\n",
       "0  174661.781039\n",
       "1  174854.172282\n",
       "2  174817.617624\n",
       "3  174466.101698\n",
       "4  173838.460480\n",
       "5  172826.336668\n",
       "6  172801.574181\n",
       "7  172664.491538"
      ]
     },
     "execution_count": 99,
     "metadata": {},
     "output_type": "execute_result"
    }
   ],
   "source": [
    "lstm_predictions_scaled = []\n",
    "\n",
    "batch = scaled_train_data[-n_input:]\n",
    "current_batch = batch.reshape((1, n_input, n_features))\n",
    "\n",
    "for i in range(len(test_data)):   \n",
    "    lstm_pred = lstm_model.predict(current_batch)[0]\n",
    "    lstm_predictions_scaled.append(lstm_pred) \n",
    "    current_batch = np.append(current_batch[:,1:,:],[[lstm_pred]],axis=1)\n",
    "\n",
    "prediction = pd.DataFrame(scaler.inverse_transform(lstm_predictions_scaled))\n",
    "prediction"
   ]
  },
  {
   "cell_type": "markdown",
   "metadata": {},
   "source": [
    "## Fit with sigmoid"
   ]
  },
  {
   "cell_type": "code",
   "execution_count": 20,
   "metadata": {},
   "outputs": [
    {
     "data": {
      "text/html": [
       "<div>\n",
       "<style scoped>\n",
       "    .dataframe tbody tr th:only-of-type {\n",
       "        vertical-align: middle;\n",
       "    }\n",
       "\n",
       "    .dataframe tbody tr th {\n",
       "        vertical-align: top;\n",
       "    }\n",
       "\n",
       "    .dataframe thead th {\n",
       "        text-align: right;\n",
       "    }\n",
       "</style>\n",
       "<table border=\"1\" class=\"dataframe\">\n",
       "  <thead>\n",
       "    <tr style=\"text-align: right;\">\n",
       "      <th></th>\n",
       "      <th>Country/Region</th>\n",
       "      <th>Province/State</th>\n",
       "      <th>Latitude</th>\n",
       "      <th>Longitude</th>\n",
       "      <th>Confirmed</th>\n",
       "      <th>Recovered</th>\n",
       "      <th>Deaths</th>\n",
       "      <th>Date</th>\n",
       "    </tr>\n",
       "  </thead>\n",
       "  <tbody>\n",
       "    <tr>\n",
       "      <th>0</th>\n",
       "      <td>China</td>\n",
       "      <td>Anhui</td>\n",
       "      <td>31.8257</td>\n",
       "      <td>117.2264</td>\n",
       "      <td>1.0</td>\n",
       "      <td>NaN</td>\n",
       "      <td>NaN</td>\n",
       "      <td>2020-01-22</td>\n",
       "    </tr>\n",
       "    <tr>\n",
       "      <th>1</th>\n",
       "      <td>China</td>\n",
       "      <td>Beijing</td>\n",
       "      <td>40.1824</td>\n",
       "      <td>116.4142</td>\n",
       "      <td>14.0</td>\n",
       "      <td>NaN</td>\n",
       "      <td>NaN</td>\n",
       "      <td>2020-01-22</td>\n",
       "    </tr>\n",
       "    <tr>\n",
       "      <th>2</th>\n",
       "      <td>China</td>\n",
       "      <td>Chongqing</td>\n",
       "      <td>30.0572</td>\n",
       "      <td>107.8740</td>\n",
       "      <td>6.0</td>\n",
       "      <td>NaN</td>\n",
       "      <td>NaN</td>\n",
       "      <td>2020-01-22</td>\n",
       "    </tr>\n",
       "    <tr>\n",
       "      <th>3</th>\n",
       "      <td>China</td>\n",
       "      <td>Fujian</td>\n",
       "      <td>26.0789</td>\n",
       "      <td>117.9874</td>\n",
       "      <td>1.0</td>\n",
       "      <td>NaN</td>\n",
       "      <td>NaN</td>\n",
       "      <td>2020-01-22</td>\n",
       "    </tr>\n",
       "    <tr>\n",
       "      <th>4</th>\n",
       "      <td>China</td>\n",
       "      <td>Gansu</td>\n",
       "      <td>37.8099</td>\n",
       "      <td>101.0583</td>\n",
       "      <td>NaN</td>\n",
       "      <td>NaN</td>\n",
       "      <td>NaN</td>\n",
       "      <td>2020-01-22</td>\n",
       "    </tr>\n",
       "    <tr>\n",
       "      <th>5</th>\n",
       "      <td>China</td>\n",
       "      <td>Guangdong</td>\n",
       "      <td>23.3417</td>\n",
       "      <td>113.4244</td>\n",
       "      <td>26.0</td>\n",
       "      <td>NaN</td>\n",
       "      <td>NaN</td>\n",
       "      <td>2020-01-22</td>\n",
       "    </tr>\n",
       "    <tr>\n",
       "      <th>6</th>\n",
       "      <td>China</td>\n",
       "      <td>Guangxi</td>\n",
       "      <td>23.8298</td>\n",
       "      <td>108.7881</td>\n",
       "      <td>2.0</td>\n",
       "      <td>NaN</td>\n",
       "      <td>NaN</td>\n",
       "      <td>2020-01-22</td>\n",
       "    </tr>\n",
       "    <tr>\n",
       "      <th>7</th>\n",
       "      <td>China</td>\n",
       "      <td>Guizhou</td>\n",
       "      <td>26.8154</td>\n",
       "      <td>106.8748</td>\n",
       "      <td>1.0</td>\n",
       "      <td>NaN</td>\n",
       "      <td>NaN</td>\n",
       "      <td>2020-01-22</td>\n",
       "    </tr>\n",
       "    <tr>\n",
       "      <th>8</th>\n",
       "      <td>China</td>\n",
       "      <td>Hainan</td>\n",
       "      <td>19.1959</td>\n",
       "      <td>109.7453</td>\n",
       "      <td>4.0</td>\n",
       "      <td>NaN</td>\n",
       "      <td>NaN</td>\n",
       "      <td>2020-01-22</td>\n",
       "    </tr>\n",
       "    <tr>\n",
       "      <th>9</th>\n",
       "      <td>China</td>\n",
       "      <td>Hebei</td>\n",
       "      <td>39.5490</td>\n",
       "      <td>116.1306</td>\n",
       "      <td>1.0</td>\n",
       "      <td>NaN</td>\n",
       "      <td>NaN</td>\n",
       "      <td>2020-01-22</td>\n",
       "    </tr>\n",
       "  </tbody>\n",
       "</table>\n",
       "</div>"
      ],
      "text/plain": [
       "  Country/Region Province/State  Latitude  Longitude  Confirmed  Recovered  \\\n",
       "0          China          Anhui   31.8257   117.2264        1.0        NaN   \n",
       "1          China        Beijing   40.1824   116.4142       14.0        NaN   \n",
       "2          China      Chongqing   30.0572   107.8740        6.0        NaN   \n",
       "3          China         Fujian   26.0789   117.9874        1.0        NaN   \n",
       "4          China          Gansu   37.8099   101.0583        NaN        NaN   \n",
       "5          China      Guangdong   23.3417   113.4244       26.0        NaN   \n",
       "6          China        Guangxi   23.8298   108.7881        2.0        NaN   \n",
       "7          China        Guizhou   26.8154   106.8748        1.0        NaN   \n",
       "8          China         Hainan   19.1959   109.7453        4.0        NaN   \n",
       "9          China          Hebei   39.5490   116.1306        1.0        NaN   \n",
       "\n",
       "   Deaths        Date  \n",
       "0     NaN  2020-01-22  \n",
       "1     NaN  2020-01-22  \n",
       "2     NaN  2020-01-22  \n",
       "3     NaN  2020-01-22  \n",
       "4     NaN  2020-01-22  \n",
       "5     NaN  2020-01-22  \n",
       "6     NaN  2020-01-22  \n",
       "7     NaN  2020-01-22  \n",
       "8     NaN  2020-01-22  \n",
       "9     NaN  2020-01-22  "
      ]
     },
     "execution_count": 20,
     "metadata": {},
     "output_type": "execute_result"
    }
   ],
   "source": [
    "import numpy as np\n",
    "import matplotlib.pyplot as plt\n",
    "plt.style.use('fivethirtyeight')\n",
    "# Any results you write to the current directory are saved as output.\n",
    "train=pd.read_csv('covid-19-all.csv')\n",
    "train.fillna(0)\n",
    "train.head(10)"
   ]
  },
  {
   "cell_type": "code",
   "execution_count": 21,
   "metadata": {},
   "outputs": [
    {
     "data": {
      "image/png": "[encoded data removed]",
      "text/plain": [
       "<Figure size 432x288 with 1 Axes>"
      ]
     },
     "metadata": {},
     "output_type": "display_data"
    }
   ],
   "source": [
    "country_df = train[train['Country/Region']=='France'].groupby('Date')['Confirmed','Deaths'].sum()\n",
    "country_df['day_count'] = list(range(1,len(country_df)+1))\n",
    "ydata = country_df.Confirmed\n",
    "xdata = country_df.day_count\n",
    "country_df['rate'] = (country_df.Confirmed-country_df.Confirmed.shift(1))/country_df.Confirmed\n",
    "country_df['increase'] = (country_df.Confirmed-country_df.Confirmed.shift(1))\n",
    "\n",
    "plt.plot(xdata, ydata, 'o')\n",
    "plt.title(\"France\")\n",
    "plt.ylabel(\"Population infected\")\n",
    "plt.xlabel(\"Days\")\n",
    "plt.show()"
   ]
  },
  {
   "cell_type": "code",
   "execution_count": 22,
   "metadata": {},
   "outputs": [
    {
     "name": "stdout",
     "output_type": "stream",
     "text": [
      "[92.63362386  1.75222064  4.22892906]\n"
     ]
    },
    {
     "data": {
      "image/png": "[encoded data removed]",
      "text/plain": [
       "<Figure size 432x288 with 1 Axes>"
      ]
     },
     "metadata": {},
     "output_type": "display_data"
    }
   ],
   "source": [
    "from scipy.optimize import curve_fit\n",
    "import pylab\n",
    "\n",
    "\n",
    "def sigmoid(x,c,a,b):\n",
    "     y = c*1 / (1 + np.exp(-a*(x-b)))\n",
    "     return y\n",
    "#country_df.ConfirmedCases\n",
    "#country_df.day_count\n",
    "xdata = np.array([1, 2, 3,4, 5, 6, 7])\n",
    "ydata = np.array([0, 0, 13, 35, 75, 89, 91])\n",
    "\n",
    "#([low_a,low_b],[high_a,high_b])\n",
    "#low x --> low b\n",
    "#high y --> high c\n",
    "#a is the sigmoidal shape.\n",
    "popt, pcov = curve_fit(sigmoid, xdata, ydata, method='dogbox',bounds=([0.,0., 0.],[100,2, 10.]))\n",
    "print(popt)\n",
    "\n",
    "x = np.linspace(-1, 10, 50)\n",
    "y = sigmoid(x, *popt)\n",
    "\n",
    "pylab.plot(xdata, ydata, 'o', label='data')\n",
    "pylab.plot(x,y, label='fit')\n",
    "pylab.ylim(-0.05, 105)\n",
    "pylab.legend(loc='best')\n",
    "pylab.show()"
   ]
  },
  {
   "cell_type": "code",
   "execution_count": 23,
   "metadata": {},
   "outputs": [],
   "source": [
    "in_df = train[train['Country/Region']=='France'].groupby('Date')['Confirmed','Deaths','Recovered'].sum().reset_index(False)\n",
    "in_df['Active']=in_df['Confirmed']-in_df['Deaths']-in_df['Recovered']\n",
    "in_df = in_df[in_df.Active>=100]"
   ]
  },
  {
   "cell_type": "code",
   "execution_count": 24,
   "metadata": {},
   "outputs": [
    {
     "name": "stdout",
     "output_type": "stream",
     "text": [
      "[9.39416648e+04 2.15689871e-01 3.16315125e+01]\n"
     ]
    }
   ],
   "source": [
    "import pylab\n",
    "from datetime import timedelta\n",
    "\n",
    "in_df['day_count'] = list(range(1,len(in_df)+1))\n",
    "in_df['increase'] = (in_df.Active-in_df.Active.shift(1))\n",
    "in_df['rate'] = (in_df.Active-in_df.Active.shift(1))/in_df.Active\n",
    "\n",
    "\n",
    "def sigmoid(x,c,a,b):\n",
    "     y = c*1 / (1 + np.exp(-a*(x-b)))\n",
    "     return y\n",
    "\n",
    "xdata = np.array(list(in_df.day_count)[::2])\n",
    "ydata = np.array(list(in_df.Active)[::2])\n",
    "\n",
    "population=1.332*10**9\n",
    "popt, pcov = curve_fit(sigmoid, xdata, ydata, method='dogbox',bounds=([0.,0., 0.],[population,6, 100.]))\n",
    "print(popt)"
   ]
  },
  {
   "cell_type": "code",
   "execution_count": 25,
   "metadata": {},
   "outputs": [
    {
     "data": {
      "image/png": "[encoded data removed]",
      "text/plain": [
       "<Figure size 432x288 with 1 Axes>"
      ]
     },
     "metadata": {},
     "output_type": "display_data"
    },
    {
     "name": "stdout",
     "output_type": "stream",
     "text": [
      "model fitted max Active at: 93941\n",
      "model sigmoidal coefficient is: 0.216\n",
      "model curve stop steepening, start flattening by day: 31\n",
      "model curve flattens by day: 62\n"
     ]
    },
    {
     "data": {
      "text/html": [
       "<div>\n",
       "<style scoped>\n",
       "    .dataframe tbody tr th:only-of-type {\n",
       "        vertical-align: middle;\n",
       "    }\n",
       "\n",
       "    .dataframe tbody tr th {\n",
       "        vertical-align: top;\n",
       "    }\n",
       "\n",
       "    .dataframe thead th {\n",
       "        text-align: right;\n",
       "    }\n",
       "</style>\n",
       "<table border=\"1\" class=\"dataframe\">\n",
       "  <thead>\n",
       "    <tr style=\"text-align: right;\">\n",
       "      <th></th>\n",
       "      <th>Date</th>\n",
       "      <th>Confirmed</th>\n",
       "      <th>Deaths</th>\n",
       "      <th>Recovered</th>\n",
       "      <th>Active</th>\n",
       "      <th>day_count</th>\n",
       "      <th>increase</th>\n",
       "      <th>rate</th>\n",
       "    </tr>\n",
       "  </thead>\n",
       "  <tbody>\n",
       "    <tr>\n",
       "      <th>37</th>\n",
       "      <td>2020-03-01</td>\n",
       "      <td>130.0</td>\n",
       "      <td>2.0</td>\n",
       "      <td>12.0</td>\n",
       "      <td>116.0</td>\n",
       "      <td>1</td>\n",
       "      <td>NaN</td>\n",
       "      <td>NaN</td>\n",
       "    </tr>\n",
       "    <tr>\n",
       "      <th>38</th>\n",
       "      <td>2020-03-02</td>\n",
       "      <td>191.0</td>\n",
       "      <td>3.0</td>\n",
       "      <td>12.0</td>\n",
       "      <td>176.0</td>\n",
       "      <td>2</td>\n",
       "      <td>60.0</td>\n",
       "      <td>0.340909</td>\n",
       "    </tr>\n",
       "    <tr>\n",
       "      <th>39</th>\n",
       "      <td>2020-03-03</td>\n",
       "      <td>204.0</td>\n",
       "      <td>4.0</td>\n",
       "      <td>12.0</td>\n",
       "      <td>188.0</td>\n",
       "      <td>3</td>\n",
       "      <td>12.0</td>\n",
       "      <td>0.063830</td>\n",
       "    </tr>\n",
       "  </tbody>\n",
       "</table>\n",
       "</div>"
      ],
      "text/plain": [
       "          Date  Confirmed  Deaths  Recovered  Active  day_count  increase  \\\n",
       "37  2020-03-01      130.0     2.0       12.0   116.0          1       NaN   \n",
       "38  2020-03-02      191.0     3.0       12.0   176.0          2      60.0   \n",
       "39  2020-03-03      204.0     4.0       12.0   188.0          3      12.0   \n",
       "\n",
       "        rate  \n",
       "37       NaN  \n",
       "38  0.340909  \n",
       "39  0.063830  "
      ]
     },
     "metadata": {},
     "output_type": "display_data"
    },
    {
     "data": {
      "text/html": [
       "<div>\n",
       "<style scoped>\n",
       "    .dataframe tbody tr th:only-of-type {\n",
       "        vertical-align: middle;\n",
       "    }\n",
       "\n",
       "    .dataframe tbody tr th {\n",
       "        vertical-align: top;\n",
       "    }\n",
       "\n",
       "    .dataframe thead th {\n",
       "        text-align: right;\n",
       "    }\n",
       "</style>\n",
       "<table border=\"1\" class=\"dataframe\">\n",
       "  <thead>\n",
       "    <tr style=\"text-align: right;\">\n",
       "      <th></th>\n",
       "      <th>Date</th>\n",
       "      <th>Confirmed</th>\n",
       "      <th>Deaths</th>\n",
       "      <th>Recovered</th>\n",
       "      <th>Active</th>\n",
       "      <th>day_count</th>\n",
       "      <th>increase</th>\n",
       "      <th>rate</th>\n",
       "    </tr>\n",
       "  </thead>\n",
       "  <tbody>\n",
       "    <tr>\n",
       "      <th>120</th>\n",
       "      <td>2020-05-23</td>\n",
       "      <td>182036.0</td>\n",
       "      <td>28218.0</td>\n",
       "      <td>63988.0</td>\n",
       "      <td>89830.0</td>\n",
       "      <td>84</td>\n",
       "      <td>19.0</td>\n",
       "      <td>0.000212</td>\n",
       "    </tr>\n",
       "    <tr>\n",
       "      <th>121</th>\n",
       "      <td>2020-05-24</td>\n",
       "      <td>182709.0</td>\n",
       "      <td>28370.0</td>\n",
       "      <td>64735.0</td>\n",
       "      <td>89604.0</td>\n",
       "      <td>85</td>\n",
       "      <td>-226.0</td>\n",
       "      <td>-0.002522</td>\n",
       "    </tr>\n",
       "    <tr>\n",
       "      <th>122</th>\n",
       "      <td>2020-05-25</td>\n",
       "      <td>183067.0</td>\n",
       "      <td>28460.0</td>\n",
       "      <td>65317.0</td>\n",
       "      <td>89290.0</td>\n",
       "      <td>86</td>\n",
       "      <td>-314.0</td>\n",
       "      <td>-0.003517</td>\n",
       "    </tr>\n",
       "  </tbody>\n",
       "</table>\n",
       "</div>"
      ],
      "text/plain": [
       "           Date  Confirmed   Deaths  Recovered   Active  day_count  increase  \\\n",
       "120  2020-05-23   182036.0  28218.0    63988.0  89830.0         84      19.0   \n",
       "121  2020-05-24   182709.0  28370.0    64735.0  89604.0         85    -226.0   \n",
       "122  2020-05-25   183067.0  28460.0    65317.0  89290.0         86    -314.0   \n",
       "\n",
       "         rate  \n",
       "120  0.000212  \n",
       "121 -0.002522  \n",
       "122 -0.003517  "
      ]
     },
     "metadata": {},
     "output_type": "display_data"
    }
   ],
   "source": [
    "est_a = popt[0]\n",
    "est_b = popt[1]\n",
    "est_c = popt[2]\n",
    "x = np.linspace(-1, in_df.day_count.max()+50, 50)\n",
    "y = sigmoid(x,est_a,est_b,est_c)\n",
    "pylab.plot(xdata, ydata, 'o', label='data')\n",
    "pylab.plot(x,y, label='fit',alpha = 0.6)\n",
    "pylab.ylim(-0.05, est_a*1.05)\n",
    "pylab.xlim(-0.05, est_c*2.05)\n",
    "pylab.legend(loc='best')\n",
    "plt.xlabel('days from day 1')\n",
    "plt.ylabel('confirmed cases')\n",
    "plt.title('France')\n",
    "pylab.show()\n",
    "\n",
    "\n",
    "#print('model start date:',in_df[in_df.day_count==1].index[0])\n",
    "#print('model start infection:',int(in_df[in_df.day_count==1].Active[0]))\n",
    "print('model fitted max Active at:',int(est_a))\n",
    "print('model sigmoidal coefficient is:',round(est_b,3))\n",
    "print('model curve stop steepening, start flattening by day:',int(est_c))\n",
    "print('model curve flattens by day:',int(est_c)*2)\n",
    "display(in_df.head(3))\n",
    "display(in_df.tail(3))"
   ]
  }
 ],
 "metadata": {
  "kernelspec": {
   "display_name": "Python 3",
   "language": "python",
   "name": "python3"
  },
  "language_info": {
   "codemirror_mode": {
    "name": "ipython",
    "version": 3
   },
   "file_extension": ".py",
   "mimetype": "text/x-python",
   "name": "python",
   "nbconvert_exporter": "python",
   "pygments_lexer": "ipython3",
   "version": "3.7.5"
  }
 },
 "nbformat": 4,
 "nbformat_minor": 4
}
